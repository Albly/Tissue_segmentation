{
  "cells": [
    {
      "cell_type": "markdown",
      "metadata": {
        "id": "view-in-github",
        "colab_type": "text"
      },
      "source": [
        "<a href=\"https://colab.research.google.com/github/Albly/Tissue_segmentation/blob/main/main.ipynb\" target=\"_parent\"><img src=\"https://colab.research.google.com/assets/colab-badge.svg\" alt=\"Open In Colab\"/></a>"
      ]
    },
    {
      "cell_type": "code",
      "execution_count": 1,
      "metadata": {
        "colab": {
          "base_uri": "https://localhost:8080/"
        },
        "id": "jR6x6UP5t-cR",
        "outputId": "885c0929-aad8-4bf6-e693-3b3d452f3e93"
      },
      "outputs": [
        {
          "output_type": "stream",
          "name": "stdout",
          "text": [
            "\u001b[K     |████████████████████████████████| 582 kB 4.4 MB/s \n",
            "\u001b[K     |████████████████████████████████| 136 kB 62.8 MB/s \n",
            "\u001b[K     |████████████████████████████████| 398 kB 60.3 MB/s \n",
            "\u001b[K     |████████████████████████████████| 596 kB 52.6 MB/s \n",
            "\u001b[K     |████████████████████████████████| 1.1 MB 28.7 MB/s \n",
            "\u001b[K     |████████████████████████████████| 271 kB 31.8 MB/s \n",
            "\u001b[K     |████████████████████████████████| 94 kB 2.6 MB/s \n",
            "\u001b[K     |████████████████████████████████| 144 kB 51.7 MB/s \n",
            "\u001b[31mERROR: pip's dependency resolver does not currently take into account all the packages that are installed. This behaviour is the source of the following dependency conflicts.\n",
            "tensorflow 2.8.0 requires tf-estimator-nightly==2.8.0.dev2021122109, which is not installed.\n",
            "arviz 0.11.4 requires typing-extensions<4,>=3.7.4.3, but you have typing-extensions 4.1.1 which is incompatible.\u001b[0m\n",
            "\u001b[K     |████████████████████████████████| 1.7 MB 4.4 MB/s \n",
            "\u001b[K     |████████████████████████████████| 181 kB 46.0 MB/s \n",
            "\u001b[K     |████████████████████████████████| 144 kB 54.4 MB/s \n",
            "\u001b[K     |████████████████████████████████| 63 kB 1.4 MB/s \n",
            "\u001b[?25h  Building wheel for pathtools (setup.py) ... \u001b[?25l\u001b[?25hdone\n"
          ]
        }
      ],
      "source": [
        "!pip install --quiet pytorch-lightning\n",
        "!pip install --quiet wandb"
      ]
    },
    {
      "cell_type": "code",
      "execution_count": 2,
      "metadata": {
        "id": "cxWJu4VNuvvf"
      },
      "outputs": [],
      "source": [
        "import torch\n",
        "from torch import nn\n",
        "import numpy as np \n",
        "import matplotlib.pyplot as plt\n",
        "from torch.utils.data import Dataset, DataLoader\n",
        "import glob\n",
        "import h5py\n",
        "import cv2\n",
        "import math\n",
        "import pytorch_lightning as pl\n",
        "import random\n",
        "import wandb\n",
        "import albumentations as A\n",
        "from copy import copy"
      ]
    },
    {
      "cell_type": "code",
      "execution_count": 3,
      "metadata": {
        "colab": {
          "base_uri": "https://localhost:8080/",
          "height": 104
        },
        "id": "p5ksvHTiuf3L",
        "outputId": "dd28cdb6-d0f4-478f-ffb7-32b7fed83303"
      },
      "outputs": [
        {
          "output_type": "display_data",
          "data": {
            "text/plain": [
              "<IPython.core.display.Javascript object>"
            ],
            "application/javascript": [
              "\n",
              "        window._wandbApiKey = new Promise((resolve, reject) => {\n",
              "            function loadScript(url) {\n",
              "            return new Promise(function(resolve, reject) {\n",
              "                let newScript = document.createElement(\"script\");\n",
              "                newScript.onerror = reject;\n",
              "                newScript.onload = resolve;\n",
              "                document.body.appendChild(newScript);\n",
              "                newScript.src = url;\n",
              "            });\n",
              "            }\n",
              "            loadScript(\"https://cdn.jsdelivr.net/npm/postmate/build/postmate.min.js\").then(() => {\n",
              "            const iframe = document.createElement('iframe')\n",
              "            iframe.style.cssText = \"width:0;height:0;border:none\"\n",
              "            document.body.appendChild(iframe)\n",
              "            const handshake = new Postmate({\n",
              "                container: iframe,\n",
              "                url: 'https://wandb.ai/authorize'\n",
              "            });\n",
              "            const timeout = setTimeout(() => reject(\"Couldn't auto authenticate\"), 5000)\n",
              "            handshake.then(function(child) {\n",
              "                child.on('authorize', data => {\n",
              "                    clearTimeout(timeout)\n",
              "                    resolve(data)\n",
              "                });\n",
              "            });\n",
              "            })\n",
              "        });\n",
              "    "
            ]
          },
          "metadata": {}
        },
        {
          "output_type": "stream",
          "name": "stderr",
          "text": [
            "\u001b[34m\u001b[1mwandb\u001b[0m: Appending key for api.wandb.ai to your netrc file: /root/.netrc\n"
          ]
        },
        {
          "output_type": "display_data",
          "data": {
            "text/plain": [
              "<IPython.core.display.HTML object>"
            ],
            "text/html": [
              "Tracking run with wandb version 0.12.11"
            ]
          },
          "metadata": {}
        },
        {
          "output_type": "display_data",
          "data": {
            "text/plain": [
              "<IPython.core.display.HTML object>"
            ],
            "text/html": [
              "Run data is saved locally in <code>/content/wandb/run-20220405_172708-3q9o0m9j</code>"
            ]
          },
          "metadata": {}
        },
        {
          "output_type": "display_data",
          "data": {
            "text/plain": [
              "<IPython.core.display.HTML object>"
            ],
            "text/html": [
              "Syncing run <strong><a href=\"https://wandb.ai/sk_team/Tissue_segmentation/runs/3q9o0m9j\" target=\"_blank\">jolly-bee-3</a></strong> to <a href=\"https://wandb.ai/sk_team/Tissue_segmentation\" target=\"_blank\">Weights & Biases</a> (<a href=\"https://wandb.me/run\" target=\"_blank\">docs</a>)<br/>"
            ]
          },
          "metadata": {}
        }
      ],
      "source": [
        "# TODO wandb is ok or tensorboard?\n",
        "USE_WANDB_LOGGER = True\n",
        "if USE_WANDB_LOGGER:\n",
        "    wandb.init(project=\"Tissue_segmentation\", entity=\"sk_team\")"
      ]
    },
    {
      "cell_type": "code",
      "execution_count": 4,
      "metadata": {
        "colab": {
          "base_uri": "https://localhost:8080/"
        },
        "id": "g-4eVM5EhSGF",
        "outputId": "a4b35baf-f648-4209-bae5-a0c70fa0c0e0"
      },
      "outputs": [
        {
          "output_type": "stream",
          "name": "stdout",
          "text": [
            "Mounted at /content/drive\n",
            "/content/drive/MyDrive\n"
          ]
        }
      ],
      "source": [
        "'''Unzip dataset on your drive or add shortcut from shared files'''\n",
        "from google.colab import drive\n",
        "drive.mount('/content/drive')\n",
        "%cd drive/MyDrive/\n",
        "\n",
        "data_path = 'tissue-segment/'\n",
        "\n",
        "#!git clone https://github.com/Albly/Tissue_segmentation.git"
      ]
    },
    {
      "cell_type": "code",
      "execution_count": 77,
      "metadata": {
        "id": "5fvGm8iZ0dOw"
      },
      "outputs": [],
      "source": [
        "class Tissue_Dataset(Dataset):\n",
        "    def __init__(self, path, transform = None):\n",
        "        masks_name = glob.glob(path+'/*mask.jpg')\n",
        "        image_names = glob.glob(path+'/*[!mask].jpg')\n",
        "        \n",
        "        assert len(masks_name) == len(image_names), 'Different amount of images and masks'\n",
        "\n",
        "        masks_tmp, images_tmp = [], []\n",
        "        for mask in masks_name: masks_tmp.append(mask[:-9])     # discard _mask.jgp \n",
        "        for image in image_names: images_tmp.append(image[:-4]) # discard .jpg\n",
        "        \n",
        "        assert all(item in masks_tmp for item in images_tmp) , 'Different files' # check that subsest are the same\n",
        "        \n",
        "        self.files = images_tmp\n",
        "        self.transform = transform\n",
        "        \n",
        "        \n",
        "    def __len__(self):\n",
        "        return len(self.files)\n",
        "    \n",
        "    def __getitem__(self, idx):\n",
        "        image = cv2.imread(self.files[idx]+'.jpg', cv2.IMREAD_GRAYSCALE)  # load image in grayscale\n",
        "        mask = cv2.imread(self.files[idx]+'_mask.jpg', cv2.IMREAD_GRAYSCALE)   # load mask in grayscae\n",
        "        mask = cv2.threshold(mask,122,255,cv2.THRESH_BINARY)[1]     # binirize mask to [0;255] using threshold 122\n",
        "        \n",
        "        if self.transform is not None:\n",
        "            transformed = self.transform(image=image, mask = mask)  # do augmentation\n",
        "            image = transformed['image']    \n",
        "            mask = transformed['mask']\n",
        "        \n",
        "        image, mask = torch.tensor(image), torch.tensor(mask).type(torch.float32)       # tranform from np to torch        \n",
        "\n",
        "        return torch.unsqueeze(image, dim = 0), torch.unsqueeze(mask, dim =0) # output with shape of [N,C,W,H] \n",
        "\n",
        "\n",
        "def get_transforms(train_patch_size = 64, test_patch_size = 1500):\n",
        "    '''returns augmentations transforms for both datasets\n",
        "       Applies patch sampling to data.\n",
        "    '''\n",
        "\n",
        "    train_transform = A.Compose([\n",
        "        A.RandomCrop(height=train_patch_size, width=train_patch_size, always_apply = True),\n",
        "        A.HorizontalFlip(always_apply = False, p = 0.5),\n",
        "        A.VerticalFlip(always_apply = False, p = 0.5),\n",
        "        #TODO: add other transfroms\n",
        "    ])\n",
        "    \n",
        "    test_transform = A.Compose([\n",
        "        A.RandomCrop(height = test_patch_size, width = test_patch_size, always_apply = True)\n",
        "    ])\n",
        "\n",
        "    return train_transform, test_transform\n",
        "\n",
        "\n",
        "def prepare_DataLoaders(path, train_test_split = 0.9, batch_size = (10,1), transforms = (None, None)):\n",
        "    fullDataset = Tissue_Dataset(data_path, transforms[0])  # get full dataset and assign train augmentation \n",
        "    train_size = int(train_test_split * len(fullDataset))  \n",
        "    test_size = len(fullDataset) - train_size\n",
        "    \n",
        "    # split dataset to 2 subsets\n",
        "    trainDataset, testDataset = torch.utils.data.random_split(fullDataset, [train_size, test_size])\n",
        "    testDataset.dataset = copy(fullDataset)             # both subsets uses the same dataset object. Need a copy for using different transfroms\n",
        "    testDataset.dataset.transform = transforms[1]       # assign test transform \n",
        "    # construnct dataLoaders\n",
        "    trainLoader = DataLoader(trainDataset, batch_size = batch_size[0], shuffle = True)\n",
        "    testLoader = DataLoader(testDataset, batch_size = batch_size[1], shuffle = True)\n",
        "    return trainLoader, testLoader"
      ]
    },
    {
      "cell_type": "code",
      "execution_count": 78,
      "metadata": {
        "id": "fAHTOlQ9UMJC"
      },
      "outputs": [],
      "source": [
        "train_transform, test_transform = get_transforms(train_patch_size = 256,\n",
        "                                                test_patch_size = 1500)\n",
        "\n",
        "trainLoader, testLoader = prepare_DataLoaders(path = data_path,\n",
        "                                              train_test_split = 0.9,\n",
        "                                              batch_size = (10,1),\n",
        "                                              transforms = (train_transform, test_transform)\n",
        "                                              )"
      ]
    },
    {
      "cell_type": "code",
      "execution_count": 79,
      "metadata": {
        "colab": {
          "base_uri": "https://localhost:8080/",
          "height": 273
        },
        "id": "00812xWlNLs3",
        "outputId": "d83a21cf-b3b8-4773-f8f9-e844043e7858"
      },
      "outputs": [
        {
          "output_type": "stream",
          "name": "stdout",
          "text": [
            "Train loader\n",
            "Shape of images is : torch.Size([10, 1, 256, 256])\n",
            "Shape of masks is : torch.Size([10, 1, 256, 256])\n",
            "<built-in method type of Tensor object at 0x7fad95de5cb0>\n"
          ]
        },
        {
          "output_type": "display_data",
          "data": {
            "text/plain": [
              "<Figure size 432x288 with 2 Axes>"
            ],
            "image/png": "[encoded data removed]"
          },
          "metadata": {
            "needs_background": "light"
          }
        }
      ],
      "source": [
        "#plt.figure(figsize=(20,20))\n",
        "mask = None\n",
        "for image,mask in trainLoader:\n",
        "    print('Train loader')\n",
        "    print('Shape of images is :', image.shape)\n",
        "    print('Shape of masks is :', mask.shape)\n",
        "    print(image.type)\n",
        "    plt.subplot(1,2,1)\n",
        "    plt.imshow(image[0,0], cmap= 'Greys')\n",
        "    plt.subplot(1,2,2)\n",
        "    plt.imshow(mask[0,0], cmap= 'Greys')\n",
        "    break\n",
        "\n",
        "# plt.figure()\n",
        "# for image,mask in testLoader:\n",
        "#     print('Test loader')\n",
        "#     print('Shape of images is :', image.shape)\n",
        "#     print('Shape of masks is :', mask.shape)\n",
        "#     plt.subplot(1,2,1)\n",
        "#     plt.imshow(image[0,0], cmap= 'Greys')\n",
        "#     plt.subplot(1,2,2)\n",
        "#     plt.imshow(mask[0,0], cmap= 'Greys')\n",
        "#     break"
      ]
    },
    {
      "cell_type": "code",
      "execution_count": null,
      "metadata": {
        "id": "odOIskP1rB0u",
        "outputId": "3671f90b-028c-4039-fe53-0a6978e8e597"
      },
      "outputs": [
        {
          "name": "stdout",
          "output_type": "stream",
          "text": [
            "tensor([[  0, 255,   0],\n",
            "        [  0,   0,   0],\n",
            "        [  0, 255, 255]], dtype=torch.uint8)\n",
            "tensor([[  0,   0,   0],\n",
            "        [  0, 255,   0],\n",
            "        [255,   0,   0]], dtype=torch.uint8)\n"
          ]
        },
        {
          "name": "stderr",
          "output_type": "stream",
          "text": [
            "/home/stas/anaconda3/envs/test/lib/python3.10/site-packages/tqdm/auto.py:22: TqdmWarning: IProgress not found. Please update jupyter and ipywidgets. See https://ipywidgets.readthedocs.io/en/stable/user_install.html\n",
            "  from .autonotebook import tqdm as notebook_tqdm\n"
          ]
        },
        {
          "data": {
            "text/plain": [
              "(tensor([[False, False, False],\n",
              "         [False, False, False],\n",
              "         [False, False, False]]),\n",
              " tensor([[ True, False,  True],\n",
              "         [ True, False,  True],\n",
              "         [False, False, False]]),\n",
              " tensor([[False, False, False],\n",
              "         [False,  True, False],\n",
              "         [ True, False, False]]),\n",
              " tensor([[False,  True, False],\n",
              "         [False, False, False],\n",
              "         [False,  True,  True]]))"
            ]
          },
          "execution_count": 1,
          "metadata": {},
          "output_type": "execute_result"
        }
      ],
      "source": [
        "import torch\n",
        "from loss import *\n",
        "\n",
        "size = 3\n",
        "TR = torch.randint(0,2,[size,size],dtype=torch.uint8)*255\n",
        "PR = torch.randint(0,2,[size,size],dtype=torch.uint8)*255\n",
        "\n",
        "TP,TN,FP,FN = calc_val_data(TR, PR)\n",
        "dice_score = calc_val_loss(TP,TN,FP,FN,eps=1e-7)\n",
        "print(\"TP\",TR)\n",
        "print(\"PR\",PR)\n",
        "print(\"TP\",TP)\n",
        "print(\"TN\",TN)\n",
        "print(\"FP\",FP)\n",
        "print(\"FN\",FN)"
      ]
    },
    {
      "cell_type": "code",
      "execution_count": null,
      "metadata": {
        "id": "QYSlvmhYrB0w"
      },
      "outputs": [],
      "source": [
        ""
      ]
    }
  ],
  "metadata": {
    "colab": {
      "collapsed_sections": [],
      "name": "main.ipynb",
      "provenance": [],
      "include_colab_link": true
    },
    "kernelspec": {
      "display_name": "Python 3",
      "name": "python3"
    },
    "language_info": {
      "codemirror_mode": {
        "name": "ipython",
        "version": 3
      },
      "file_extension": ".py",
      "mimetype": "text/x-python",
      "name": "python",
      "nbconvert_exporter": "python",
      "pygments_lexer": "ipython3",
      "version": "3.10.0"
    }
  },
  "nbformat": 4,
  "nbformat_minor": 0
}