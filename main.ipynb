{
  "cells": [
    {
      "cell_type": "markdown",
      "metadata": {
        "id": "view-in-github",
        "colab_type": "text"
      },
      "source": [
        "<a href=\"https://colab.research.google.com/github/Albly/Tissue_segmentation/blob/main/main.ipynb\" target=\"_parent\"><img src=\"https://colab.research.google.com/assets/colab-badge.svg\" alt=\"Open In Colab\"/></a>"
      ]
    },
    {
      "cell_type": "code",
      "execution_count": 1,
      "metadata": {
        "colab": {
          "base_uri": "https://localhost:8080/"
        },
        "id": "jR6x6UP5t-cR",
        "outputId": "885c0929-aad8-4bf6-e693-3b3d452f3e93"
      },
      "outputs": [
        {
          "output_type": "stream",
          "name": "stdout",
          "text": [
            "\u001b[K     |████████████████████████████████| 582 kB 4.4 MB/s \n",
            "\u001b[K     |████████████████████████████████| 136 kB 62.8 MB/s \n",
            "\u001b[K     |████████████████████████████████| 398 kB 60.3 MB/s \n",
            "\u001b[K     |████████████████████████████████| 596 kB 52.6 MB/s \n",
            "\u001b[K     |████████████████████████████████| 1.1 MB 28.7 MB/s \n",
            "\u001b[K     |████████████████████████████████| 271 kB 31.8 MB/s \n",
            "\u001b[K     |████████████████████████████████| 94 kB 2.6 MB/s \n",
            "\u001b[K     |████████████████████████████████| 144 kB 51.7 MB/s \n",
            "\u001b[31mERROR: pip's dependency resolver does not currently take into account all the packages that are installed. This behaviour is the source of the following dependency conflicts.\n",
            "tensorflow 2.8.0 requires tf-estimator-nightly==2.8.0.dev2021122109, which is not installed.\n",
            "arviz 0.11.4 requires typing-extensions<4,>=3.7.4.3, but you have typing-extensions 4.1.1 which is incompatible.\u001b[0m\n",
            "\u001b[K     |████████████████████████████████| 1.7 MB 4.4 MB/s \n",
            "\u001b[K     |████████████████████████████████| 181 kB 46.0 MB/s \n",
            "\u001b[K     |████████████████████████████████| 144 kB 54.4 MB/s \n",
            "\u001b[K     |████████████████████████████████| 63 kB 1.4 MB/s \n",
            "\u001b[?25h  Building wheel for pathtools (setup.py) ... \u001b[?25l\u001b[?25hdone\n"
          ]
        }
      ],
      "source": [
        "!pip install --quiet pytorch-lightning\n",
        "!pip install --quiet wandb"
      ]
    },
    {
      "cell_type": "code",
      "execution_count": 2,
      "metadata": {
        "id": "cxWJu4VNuvvf"
      },
      "outputs": [],
      "source": [
        "import torch\n",
        "from torch import nn\n",
        "import numpy as np \n",
        "import matplotlib.pyplot as plt\n",
        "from torch.utils.data import Dataset, DataLoader\n",
        "import glob\n",
        "import h5py\n",
        "import cv2\n",
        "import math\n",
        "import pytorch_lightning as pl\n",
        "import random\n",
        "import wandb\n",
        "import albumentations as A\n",
        "from copy import copy"
      ]
    },
    {
      "cell_type": "code",
      "execution_count": 3,
      "metadata": {
        "colab": {
          "base_uri": "https://localhost:8080/",
          "height": 104
        },
        "id": "p5ksvHTiuf3L",
        "outputId": "dd28cdb6-d0f4-478f-ffb7-32b7fed83303"
      },
      "outputs": [
        {
          "output_type": "display_data",
          "data": {
            "text/plain": [
              "<IPython.core.display.Javascript object>"
            ],
            "application/javascript": [
              "\n",
              "        window._wandbApiKey = new Promise((resolve, reject) => {\n",
              "            function loadScript(url) {\n",
              "            return new Promise(function(resolve, reject) {\n",
              "                let newScript = document.createElement(\"script\");\n",
              "                newScript.onerror = reject;\n",
              "                newScript.onload = resolve;\n",
              "                document.body.appendChild(newScript);\n",
              "                newScript.src = url;\n",
              "            });\n",
              "            }\n",
              "            loadScript(\"https://cdn.jsdelivr.net/npm/postmate/build/postmate.min.js\").then(() => {\n",
              "            const iframe = document.createElement('iframe')\n",
              "            iframe.style.cssText = \"width:0;height:0;border:none\"\n",
              "            document.body.appendChild(iframe)\n",
              "            const handshake = new Postmate({\n",
              "                container: iframe,\n",
              "                url: 'https://wandb.ai/authorize'\n",
              "            });\n",
              "            const timeout = setTimeout(() => reject(\"Couldn't auto authenticate\"), 5000)\n",
              "            handshake.then(function(child) {\n",
              "                child.on('authorize', data => {\n",
              "                    clearTimeout(timeout)\n",
              "                    resolve(data)\n",
              "                });\n",
              "            });\n",
              "            })\n",
              "        });\n",
              "    "
            ]
          },
          "metadata": {}
        },
        {
          "output_type": "stream",
          "name": "stderr",
          "text": [
            "\u001b[34m\u001b[1mwandb\u001b[0m: Appending key for api.wandb.ai to your netrc file: /root/.netrc\n"
          ]
        },
        {
          "output_type": "display_data",
          "data": {
            "text/plain": [
              "<IPython.core.display.HTML object>"
            ],
            "text/html": [
              "Tracking run with wandb version 0.12.11"
            ]
          },
          "metadata": {}
        },
        {
          "output_type": "display_data",
          "data": {
            "text/plain": [
              "<IPython.core.display.HTML object>"
            ],
            "text/html": [
              "Run data is saved locally in <code>/content/wandb/run-20220405_172708-3q9o0m9j</code>"
            ]
          },
          "metadata": {}
        },
        {
          "output_type": "display_data",
          "data": {
            "text/plain": [
              "<IPython.core.display.HTML object>"
            ],
            "text/html": [
              "Syncing run <strong><a href=\"https://wandb.ai/sk_team/Tissue_segmentation/runs/3q9o0m9j\" target=\"_blank\">jolly-bee-3</a></strong> to <a href=\"https://wandb.ai/sk_team/Tissue_segmentation\" target=\"_blank\">Weights & Biases</a> (<a href=\"https://wandb.me/run\" target=\"_blank\">docs</a>)<br/>"
            ]
          },
          "metadata": {}
        }
      ],
      "source": [
        "# TODO wandb is ok or tensorboard?\n",
        "USE_WANDB_LOGGER = True\n",
        "if USE_WANDB_LOGGER:\n",
        "    wandb.init(project=\"Tissue_segmentation\", entity=\"sk_team\")"
      ]
    },
    {
      "cell_type": "code",
      "execution_count": 4,
      "metadata": {
        "colab": {
          "base_uri": "https://localhost:8080/"
        },
        "id": "g-4eVM5EhSGF",
        "outputId": "a4b35baf-f648-4209-bae5-a0c70fa0c0e0"
      },
      "outputs": [
        {
          "output_type": "stream",
          "name": "stdout",
          "text": [
            "Mounted at /content/drive\n",
            "/content/drive/MyDrive\n"
          ]
        }
      ],
      "source": [
        "'''Unzip dataset on your drive or add shortcut from shared files'''\n",
        "from google.colab import drive\n",
        "drive.mount('/content/drive')\n",
        "%cd drive/MyDrive/\n",
        "\n",
        "data_path = 'tissue-segment/'\n",
        "\n",
        "#!git clone https://github.com/Albly/Tissue_segmentation.git"
      ]
    },
    {
      "cell_type": "code",
      "source": [
        "masks = glob.glob(data_path+'/*mask.jpg')\n",
        "images = glob.glob(data_path+'/*[!mask].jpg')"
      ],
      "metadata": {
        "id": "HR4fdqelxaSh"
      },
      "execution_count": 10,
      "outputs": []
    },
    {
      "cell_type": "code",
      "source": [
        "masks_ = []\n",
        "images_ = []\n",
        "for mask in masks: masks_.append(mask[:-9]) \n",
        "for image in images: images_.append(image[:-4]) "
      ],
      "metadata": {
        "id": "7HuGvUJKx0iJ"
      },
      "execution_count": 11,
      "outputs": []
    },
    {
      "cell_type": "code",
      "source": [
        "masks_.sort() "
      ],
      "metadata": {
        "id": "HE-QYFIjyNUE"
      },
      "execution_count": 17,
      "outputs": []
    },
    {
      "cell_type": "code",
      "source": [
        "images_.sort()"
      ],
      "metadata": {
        "id": "PjTMd3Wnyhvg"
      },
      "execution_count": 19,
      "outputs": []
    },
    {
      "cell_type": "code",
      "source": [
        "images_[0] in masks_"
      ],
      "metadata": {
        "id": "eFAEUB8NymAG",
        "outputId": "1e09950e-9b39-4882-ff80-ba2d4d833824",
        "colab": {
          "base_uri": "https://localhost:8080/"
        }
      },
      "execution_count": 24,
      "outputs": [
        {
          "output_type": "execute_result",
          "data": {
            "text/plain": [
              "True"
            ]
          },
          "metadata": {},
          "execution_count": 24
        }
      ]
    },
    {
      "cell_type": "code",
      "source": [
        "glob.glob(data_path+'/*.jpg')"
      ],
      "metadata": {
        "id": "qub2CFWfzI_n",
        "outputId": "332b071a-6867-4d42-bb52-0e4b116eda92",
        "colab": {
          "base_uri": "https://localhost:8080/"
        }
      },
      "execution_count": 52,
      "outputs": [
        {
          "output_type": "execute_result",
          "data": {
            "text/plain": [
              "['tissue-segment/18-09530A_2019-05-07 23_50_03-lv1-30769-19045-3692-3247_mask.jpg',\n",
              " 'tissue-segment/18-09530A_2019-05-07 23_50_03-lv1-36901-16600-1692-2186.jpg',\n",
              " 'tissue-segment/18-09530A_2019-05-07 23_50_03-lv1-38517-18204-4297-2516_mask.jpg',\n",
              " 'tissue-segment/18-09926A_2019-05-08 00_06_27-lv1-21025-9557-7081-5756_mask.jpg',\n",
              " 'tissue-segment/18-04842B_2019-05-07 23_40_49-lv1-22633-15157-4325-3516.jpg',\n",
              " 'tissue-segment/18-05623B_2019-05-07 23_46_22-lv1-19863-4876-3687-5587_mask.jpg',\n",
              " 'tissue-segment/18-09530A_2019-05-07 23_50_03-lv1-30769-19045-3692-3247.jpg',\n",
              " 'tissue-segment/18-09926B_2019-05-08 00_13_33-lv1-11741-24001-4020-5474_mask.jpg',\n",
              " 'tissue-segment/18-05623B_2019-05-07 23_46_22-lv1-23560-7133-2155-3840.jpg',\n",
              " 'tissue-segment/18-05623B_2019-05-07 23_46_22-lv1-15646-6268-4484-5107.jpg',\n",
              " 'tissue-segment/18-04842B_2019-05-07 23_40_49-lv1-22633-15157-4325-3516_mask.jpg',\n",
              " 'tissue-segment/18-09530A_2019-05-07 23_50_03-lv1-38517-18204-4297-2516.jpg',\n",
              " 'tissue-segment/18-09926A_2019-05-08 00_06_27-lv1-23990-14292-4181-5408.jpg',\n",
              " 'tissue-segment/18-04842B_2019-05-07 23_40_49-lv1-25280-12651-4140-4061_mask.jpg',\n",
              " 'tissue-segment/18-09926A_2019-05-08 00_06_27-lv1-18745-15986-4843-3279.jpg',\n",
              " 'tissue-segment/18-05623B_2019-05-07 23_46_22-lv1-15646-6268-4484-5107_mask.jpg',\n",
              " 'tissue-segment/18-09530A_2019-05-07 23_50_03-lv1-36901-16600-1692-2186_mask.jpg',\n",
              " 'tissue-segment/18-04842B_2019-05-07 23_40_49-lv1-25280-12651-4140-4061.jpg',\n",
              " 'tissue-segment/18-09926A_2019-05-08 00_06_27-lv1-23990-14292-4181-5408_mask.jpg',\n",
              " 'tissue-segment/18-09530A_2019-05-07 23_50_03-lv1-34626-18358-3736-6181.jpg',\n",
              " 'tissue-segment/18-09926A_2019-05-08 00_06_27-lv1-21025-9557-7081-5756.jpg',\n",
              " 'tissue-segment/18-09530A_2019-05-07 23_50_03-lv1-34626-18358-3736-6181_mask.jpg',\n",
              " 'tissue-segment/18-05623B_2019-05-07 23_46_22-lv1-19863-4876-3687-5587.jpg',\n",
              " 'tissue-segment/18-09926A_2019-05-08 00_06_27-lv1-18745-15986-4843-3279_mask.jpg',\n",
              " 'tissue-segment/18-09926B_2019-05-08 00_13_33-lv1-11741-24001-4020-5474.jpg',\n",
              " 'tissue-segment/18-05623B_2019-05-07 23_46_22-lv1-23560-7133-2155-3840_mask.jpg',\n",
              " 'tissue-segment/18-11879B_2019-05-08 01_08_38-lv1-12110-18266-7364-7757_mask.jpg',\n",
              " 'tissue-segment/18-10829A_2019-05-08 00_40_37-lv1-41168-7882-3765-3289.jpg',\n",
              " 'tissue-segment/18-11879A_2019-05-08 01_03_15-lv1-10916-21067-2928-2104.jpg',\n",
              " 'tissue-segment/18-10829A_2019-05-08 00_40_37-lv1-38624-10705-5233-3289.jpg',\n",
              " 'tissue-segment/18-13575A_2019-05-08 01_48_09-lv1-21060-17798-2829-6367_mask.jpg',\n",
              " 'tissue-segment/18-10829B_2019-05-08 00_47_24-lv1-24450-13719-3372-5801_mask.jpg',\n",
              " 'tissue-segment/18-11879A_2019-05-08 01_03_15-lv1-11136-14308-2813-3714_mask.jpg',\n",
              " 'tissue-segment/18-11879B_2019-05-08 01_08_38-lv1-12110-18266-7364-7757.jpg',\n",
              " 'tissue-segment/18-13575A_2019-05-08 01_48_09-lv1-21060-17798-2829-6367.jpg',\n",
              " 'tissue-segment/18-13347A_2019-05-08 01_31_58-lv1-19772-17132-3435-7294_mask.jpg',\n",
              " 'tissue-segment/18-13347B_2019-05-08 01_37_25-lv1-18918-18855-10791-8621.jpg',\n",
              " 'tissue-segment/18-13575A_2019-05-08 01_48_09-lv1-17672-19213-3072-3239.jpg',\n",
              " 'tissue-segment/18-10829A_2019-05-08 00_40_37-lv1-38624-10705-5233-3289_mask.jpg',\n",
              " 'tissue-segment/18-10829B_2019-05-08 00_47_24-lv1-20240-15499-4901-5215_mask.jpg',\n",
              " 'tissue-segment/18-13575B_2019-05-08 01_53_27-lv1-15618-6850-9892-9644_mask.jpg',\n",
              " 'tissue-segment/18-13575A_2019-05-08 01_48_09-lv1-24486-16942-4263-6628_mask.jpg',\n",
              " 'tissue-segment/18-13347A_2019-05-08 01_31_58-lv1-14057-17758-5693-6244_mask.jpg',\n",
              " 'tissue-segment/18-11879A_2019-05-08 01_03_15-lv1-10471-18155-3868-2890.jpg',\n",
              " 'tissue-segment/18-13347A_2019-05-08 01_31_58-lv1-14057-17758-5693-6244.jpg',\n",
              " 'tissue-segment/18-10829B_2019-05-08 00_47_24-lv1-24450-13719-3372-5801.jpg',\n",
              " 'tissue-segment/18-13347B_2019-05-08 01_37_25-lv1-18918-18855-10791-8621_mask.jpg',\n",
              " 'tissue-segment/18-14278A_2019-05-08 02_07_39-lv1-8938-10396-3934-5758.jpg',\n",
              " 'tissue-segment/18-13575A_2019-05-08 01_48_09-lv1-17672-19213-3072-3239_mask.jpg',\n",
              " 'tissue-segment/18-13575A_2019-05-08 01_48_09-lv1-24486-16942-4263-6628.jpg',\n",
              " 'tissue-segment/18-11879A_2019-05-08 01_03_15-lv1-11136-14308-2813-3714.jpg',\n",
              " 'tissue-segment/18-13347A_2019-05-08 01_31_58-lv1-19772-17132-3435-7294.jpg',\n",
              " 'tissue-segment/18-14278B_2019-05-08 02_13_11-lv1-13964-11229-3779-5973_mask.jpg',\n",
              " 'tissue-segment/18-14278A_2019-05-08 02_07_39-lv1-8938-10396-3934-5758_mask.jpg',\n",
              " 'tissue-segment/18-11879A_2019-05-08 01_03_15-lv1-10916-21067-2928-2104_mask.jpg',\n",
              " 'tissue-segment/18-10829B_2019-05-08 00_47_24-lv1-20240-15499-4901-5215.jpg',\n",
              " 'tissue-segment/18-09926B_2019-05-08 00_13_33-lv1-9910-26446-3879-4218.jpg',\n",
              " 'tissue-segment/18-11879A_2019-05-08 01_03_15-lv1-10471-18155-3868-2890_mask.jpg',\n",
              " 'tissue-segment/18-10829A_2019-05-08 00_40_37-lv1-41168-7882-3765-3289_mask.jpg',\n",
              " 'tissue-segment/18-13575B_2019-05-08 01_53_27-lv1-15618-6850-9892-9644.jpg',\n",
              " 'tissue-segment/18-14278B_2019-05-08 02_13_11-lv1-13964-11229-3779-5973.jpg',\n",
              " 'tissue-segment/18-09926B_2019-05-08 00_13_33-lv1-9910-26446-3879-4218_mask.jpg',\n",
              " 'tissue-segment/18-14278B_2019-05-08 02_13_11-lv1-17874-10382-3996-6342_mask.jpg',\n",
              " 'tissue-segment/1800127001_2019-04-30 10_40_02-lv1-6892-18147-4571-3989_mask.jpg',\n",
              " 'tissue-segment/1800127001_2019-04-30 10_40_02-lv1-1001-22444-3989-3967_mask.jpg',\n",
              " 'tissue-segment/1800883002_2019-04-30 09_57_31-lv1-32373-29627-2888-5031_mask.jpg',\n",
              " 'tissue-segment/18-15948A_2019-05-08 2_39_44-lv1-1998-10776-6940-4790.jpg',\n",
              " 'tissue-segment/18-16638A_2019-05-08 02_54_25-lv1-18037-16370-3576-4362_mask.jpg',\n",
              " 'tissue-segment/18-15948A_2019-05-08 2_39_44-lv1-3890-15585-4835-3398.jpg',\n",
              " 'tissue-segment/18-16638A_2019-05-08 02_54_25-lv1-21673-13678-6288-8686.jpg',\n",
              " 'tissue-segment/18-15948A_2019-05-08 2_39_44-lv1-1998-10776-6940-4790_mask.jpg',\n",
              " 'tissue-segment/1800127001_2019-04-30 10_40_02-lv1-4386-16301-2230-4582.jpg',\n",
              " 'tissue-segment/1800127001_2019-04-30 10_40_02-lv1-7573-15422-4121-2549.jpg',\n",
              " 'tissue-segment/1900838001_2019-04-30 10_15_23-lv1-19388-22559-5824-4187.jpg',\n",
              " 'tissue-segment/1901067001_2019-04-30 10_36_04-lv1-17809-14080-2848-6199.jpg',\n",
              " 'tissue-segment/1800127001_2019-04-30 10_40_02-lv1-6892-18147-4571-3989.jpg',\n",
              " 'tissue-segment/1800127001_2019-04-30 10_40_02-lv1-1001-22444-3989-3967.jpg',\n",
              " 'tissue-segment/1800127001_2019-04-30 10_40_02-lv1-4386-16301-2230-4582_mask.jpg',\n",
              " 'tissue-segment/1901067001_2019-04-30 10_36_04-lv1-17809-14080-2848-6199_mask.jpg',\n",
              " 'tissue-segment/1900838001_2019-04-30 10_15_23-lv1-19388-22559-5824-4187_mask.jpg',\n",
              " 'tissue-segment/1900838001_2019-04-30 10_15_23-lv1-20231-15672-6703-7495_mask.jpg',\n",
              " 'tissue-segment/1800127001_2019-04-30 10_40_02-lv1-7573-15422-4121-2549_mask.jpg',\n",
              " 'tissue-segment/1800883002_2019-04-30 09_57_31-lv1-32373-29627-2888-5031.jpg',\n",
              " 'tissue-segment/1900838001_2019-04-30 10_15_23-lv1-17110-19166-3362-4373_mask.jpg',\n",
              " 'tissue-segment/18-16638A_2019-05-08 02_54_25-lv1-21673-13678-6288-8686_mask.jpg',\n",
              " 'tissue-segment/18-16638B_2019-05-08 02_58_19-lv1-566-16540-4876-3615_mask.jpg',\n",
              " 'tissue-segment/1800127001_2019-04-30 10_40_02-lv1-6628-22213-4692-4725_mask.jpg',\n",
              " 'tissue-segment/18-16638B_2019-05-08 02_58_19-lv1-2771-11260-4929-4633_mask.jpg',\n",
              " 'tissue-segment/18-14278B_2019-05-08 02_13_11-lv1-17874-10382-3996-6342.jpg',\n",
              " 'tissue-segment/18-15948A_2019-05-08 2_39_44-lv1-3890-15585-4835-3398_mask.jpg',\n",
              " 'tissue-segment/1800883002_2019-04-30 09_57_31-lv1-28885-30819-3472-3263.jpg',\n",
              " 'tissue-segment/18-16638A_2019-05-08 02_54_25-lv1-18037-16370-3576-4362.jpg',\n",
              " 'tissue-segment/1800127001_2019-04-30 10_40_02-lv1-6628-22213-4692-4725.jpg',\n",
              " 'tissue-segment/1900838001_2019-04-30 10_15_23-lv1-17110-19166-3362-4373.jpg',\n",
              " 'tissue-segment/18-16638B_2019-05-08 02_58_19-lv1-566-16540-4876-3615.jpg',\n",
              " 'tissue-segment/1800883002_2019-04-30 09_57_31-lv1-28885-30819-3472-3263_mask.jpg',\n",
              " 'tissue-segment/18-16638B_2019-05-08 02_58_19-lv1-2771-11260-4929-4633.jpg',\n",
              " 'tissue-segment/1900838001_2019-04-30 10_15_23-lv1-20231-15672-6703-7495.jpg',\n",
              " 'tissue-segment/2018_67378_1-1_2019-02-20 22_49_25-lv1-46888-12754-2988-4306_mask.jpg',\n",
              " 'tissue-segment/1901940-1_2019-04-30 10_30_47-lv1-44085-11603-3541-4701_mask.jpg',\n",
              " 'tissue-segment/2018_67378_1-1_2019-02-20 22_49_25-lv1-43770-16472-3600-3412.jpg',\n",
              " 'tissue-segment/1901558001_2019-04-30 10_24_11-lv1-50393-31270-4213-7808_mask.jpg',\n",
              " 'tissue-segment/2018_68099_1-1_2019-02-20 23_21_13-lv1-18019-14672-3129-3364_mask.jpg',\n",
              " 'tissue-segment/1901558001_2019-04-30 10_24_11-lv1-50393-31270-4213-7808.jpg',\n",
              " 'tissue-segment/2018_70770_1-1_2019-02-20 23_53_21-lv1-39165-4987-3338-4289.jpg',\n",
              " 'tissue-segment/2018_68099_1-1_2019-02-20 23_21_13-lv1-12019-11071-5953-7294_mask.jpg',\n",
              " 'tissue-segment/2018_67378_1-1_2019-02-20 22_49_25-lv1-43770-16472-3600-3412_mask.jpg',\n",
              " 'tissue-segment/1901558001_2019-04-30 10_24_11-lv1-54922-32041-3594-3236_mask.jpg',\n",
              " 'tissue-segment/1901940-1_2019-04-30 10_30_47-lv1-39947-11074-3848-5785.jpg',\n",
              " 'tissue-segment/1901558001_2019-04-30 10_24_11-lv1-53781-36766-3290-3779.jpg',\n",
              " 'tissue-segment/1901940-1_2019-04-30 10_30_47-lv1-40561-17303-4906-4343.jpg',\n",
              " 'tissue-segment/2018_70770_1-1_2019-02-20 23_53_21-lv1-32477-7770-6225-5402.jpg',\n",
              " 'tissue-segment/2018_62532_1-1_2019-02-20 21_54_51-lv1-48484-29236-5435-5412.jpg',\n",
              " 'tissue-segment/1901558001_2019-04-30 10_24_11-lv1-53781-36766-3290-3779_mask.jpg',\n",
              " 'tissue-segment/2018_67378_1-1_2019-02-20 22_49_25-lv1-40593-13366-3070-4835_mask.jpg',\n",
              " 'tissue-segment/1901067001_2019-04-30 10_36_04-lv1-20509-14477-2904-3369_mask.jpg',\n",
              " 'tissue-segment/2018_70770_1-1_2019-02-20 23_53_21-lv1-32477-7770-6225-5402_mask.jpg',\n",
              " 'tissue-segment/1901067001_2019-04-30 10_36_04-lv1-20509-14477-2904-3369.jpg',\n",
              " 'tissue-segment/2018_67378_1-1_2019-02-20 22_49_25-lv1-46888-12754-2988-4306.jpg',\n",
              " 'tissue-segment/2018_68099_1-1_2019-02-20 23_21_13-lv1-7948-15919-4988-5294_mask.jpg',\n",
              " 'tissue-segment/2018_67378_1-1_2019-02-20 22_49_25-lv1-41264-9330-5423-3812_mask.jpg',\n",
              " 'tissue-segment/2018_62532_1-1_2019-02-20 21_54_51-lv1-48484-29236-5435-5412_mask.jpg',\n",
              " 'tissue-segment/2018_62532_1-1_2019-02-20 21_54_51-lv1-53445-28477-5625-5981.jpg',\n",
              " 'tissue-segment/2018_67378_1-1_2019-02-20 22_49_25-lv1-41264-9330-5423-3812.jpg',\n",
              " 'tissue-segment/2018_68099_1-1_2019-02-20 23_21_13-lv1-12019-11071-5953-7294.jpg',\n",
              " 'tissue-segment/2018_68099_1-1_2019-02-20 23_21_13-lv1-18019-14672-3129-3364.jpg',\n",
              " 'tissue-segment/2018_67378_1-1_2019-02-20 22_49_25-lv1-40593-13366-3070-4835.jpg',\n",
              " 'tissue-segment/2018_62532_1-1_2019-02-20 21_54_51-lv1-53445-28477-5625-5981_mask.jpg',\n",
              " 'tissue-segment/1901940-1_2019-04-30 10_30_47-lv1-44085-11603-3541-4701.jpg',\n",
              " 'tissue-segment/1901940-1_2019-04-30 10_30_47-lv1-39947-11074-3848-5785_mask.jpg',\n",
              " 'tissue-segment/2018_70770_1-1_2019-02-20 23_53_21-lv1-31445-3075-5089-5065.jpg',\n",
              " 'tissue-segment/2018_70770_1-1_2019-02-20 23_53_21-lv1-39165-4987-3338-4289_mask.jpg',\n",
              " 'tissue-segment/1901558001_2019-04-30 10_24_11-lv1-54922-32041-3594-3236.jpg',\n",
              " 'tissue-segment/2018_68099_1-1_2019-02-20 23_21_13-lv1-7948-15919-4988-5294.jpg',\n",
              " 'tissue-segment/2018_70917_1-1_2019-02-20 23_55_17-lv1-40720-18654-3821-5317.jpg',\n",
              " 'tissue-segment/2018_70770_1-1_2019-02-20 23_53_21-lv1-31445-3075-5089-5065_mask.jpg',\n",
              " 'tissue-segment/1901940-1_2019-04-30 10_30_47-lv1-40561-17303-4906-4343_mask.jpg',\n",
              " 'tissue-segment/2018_72876_1-1_2019-02-21 00_28_52-lv1-31103-26670-3231-3747.jpg',\n",
              " 'tissue-segment/2018_74432_1-1_2019-02-21 00_38_07-lv1-42489-21326-4481-2619.jpg',\n",
              " 'tissue-segment/2018_74432_1-1_2019-02-21 00_38_07-lv1-39539-22271-2585-3425_mask.jpg',\n",
              " 'tissue-segment/2018_70917_1-1_2019-02-20 23_55_17-lv1-48850-20541-3726-4842.jpg',\n",
              " 'tissue-segment/2018_72876_1-1_2019-02-21 00_28_52-lv1-31774-22472-5000-4395.jpg',\n",
              " 'tissue-segment/2018_74969_1-1_2019-02-21 00_48_39-lv1-38647-14050-3934-3066.jpg',\n",
              " 'tissue-segment/2018_74969_1-1_2019-02-21 00_48_39-lv1-39175-17160-3764-3967_mask.jpg',\n",
              " 'tissue-segment/2018_74432_1-1_2019-02-21 00_38_07-lv1-39539-22271-2585-3425.jpg',\n",
              " 'tissue-segment/2018_70917_1-1_2019-02-20 23_55_17-lv1-48850-20541-3726-4842_mask.jpg',\n",
              " 'tissue-segment/2018_72876_1-1_2019-02-21 00_28_52-lv1-31302-18528-4395-2263.jpg',\n",
              " 'tissue-segment/2018_74432_1-1_2019-02-21 00_38_07-lv1-41854-23498-2492-3028_mask.jpg',\n",
              " 'tissue-segment/2018_73834_1-1_2019-02-21 00_16_28-lv1-45445-18002-6629-3152.jpg',\n",
              " 'tissue-segment/2018_73834_1-1_2019-02-21 00_16_28-lv1-51263-10561-2816-4137.jpg',\n",
              " 'tissue-segment/2018_74432_1-1_2019-02-21 00_38_07-lv1-43235-26503-3536-4133_mask.jpg',\n",
              " 'tissue-segment/2018_75775_1-1_2019-02-21 00_58_00-lv1-24068-36921-4115-6435_mask.jpg',\n",
              " 'tissue-segment/2018_70917_1-1_2019-02-20 23_55_17-lv1-43711-23484-4047-4165.jpg',\n",
              " 'tissue-segment/2018_72876_1-1_2019-02-21 00_28_52-lv1-26180-22208-5407-4330.jpg',\n",
              " 'tissue-segment/2018_70917_1-1_2019-02-20 23_55_17-lv1-40720-18654-3821-5317_mask.jpg',\n",
              " 'tissue-segment/2018_74432_1-1_2019-02-21 00_38_07-lv1-42489-21326-4481-2619_mask.jpg',\n",
              " 'tissue-segment/2018_74969_1-1_2019-02-21 00_48_39-lv1-39175-17160-3764-3967.jpg',\n",
              " 'tissue-segment/2018_74969_1-1_2019-02-21 00_48_39-lv1-38647-14050-3934-3066_mask.jpg',\n",
              " 'tissue-segment/2018_75775_1-1_2019-02-21 00_58_00-lv1-28469-40954-2319-2045_mask.jpg',\n",
              " 'tissue-segment/2018_75775_1-1_2019-02-21 00_58_00-lv1-27244-34818-3645-2230.jpg',\n",
              " 'tissue-segment/2018_72876_1-1_2019-02-21 00_28_52-lv1-31103-26670-3231-3747_mask.jpg',\n",
              " 'tissue-segment/2018_74432_1-1_2019-02-21 00_38_07-lv1-38682-26559-4011-3624_mask.jpg',\n",
              " 'tissue-segment/2018_73834_1-1_2019-02-21 00_16_28-lv1-51263-10561-2816-4137_mask.jpg',\n",
              " 'tissue-segment/2018_72876_1-1_2019-02-21 00_28_52-lv1-31302-18528-4395-2263_mask.jpg',\n",
              " 'tissue-segment/2018_70917_1-1_2019-02-20 23_55_17-lv1-43711-23484-4047-4165_mask.jpg',\n",
              " 'tissue-segment/2018_75775_1-1_2019-02-21 00_58_00-lv1-28469-40954-2319-2045.jpg',\n",
              " 'tissue-segment/2018_73834_1-1_2019-02-21 00_16_28-lv1-43278-10364-7406-7672.jpg',\n",
              " 'tissue-segment/2018_75775_1-1_2019-02-21 00_58_00-lv1-27244-34818-3645-2230_mask.jpg',\n",
              " 'tissue-segment/2018_73834_1-1_2019-02-21 00_16_28-lv1-43278-10364-7406-7672_mask.jpg',\n",
              " 'tissue-segment/2018_74969_1-1_2019-02-21 00_48_39-lv1-35186-14908-3285-3747.jpg',\n",
              " 'tissue-segment/2018_73834_1-1_2019-02-21 00_16_28-lv1-45445-18002-6629-3152_mask.jpg',\n",
              " 'tissue-segment/2018_75775_1-1_2019-02-21 00_58_00-lv1-27957-36850-2866-3925_mask.jpg',\n",
              " 'tissue-segment/2018_74432_1-1_2019-02-21 00_38_07-lv1-43235-26503-3536-4133.jpg',\n",
              " 'tissue-segment/2018_74432_1-1_2019-02-21 00_38_07-lv1-45169-23984-2298-2121_mask.jpg',\n",
              " 'tissue-segment/2018_75775_1-1_2019-02-21 00_58_00-lv1-27957-36850-2866-3925.jpg',\n",
              " 'tissue-segment/2018_75775_1-1_2019-02-21 00_58_00-lv1-24068-36921-4115-6435.jpg',\n",
              " 'tissue-segment/2018_72876_1-1_2019-02-21 00_28_52-lv1-31774-22472-5000-4395_mask.jpg',\n",
              " 'tissue-segment/2018_78758_1-1_2019-02-21 01_17_57-lv1-12181-25196-6860-3083.jpg',\n",
              " 'tissue-segment/2018_72876_1-1_2019-02-21 00_28_52-lv1-26180-22208-5407-4330_mask.jpg',\n",
              " 'tissue-segment/2018_74432_1-1_2019-02-21 00_38_07-lv1-45169-23984-2298-2121.jpg',\n",
              " 'tissue-segment/2018_74432_1-1_2019-02-21 00_38_07-lv1-41854-23498-2492-3028.jpg',\n",
              " 'tissue-segment/2018_74432_1-1_2019-02-21 00_38_07-lv1-38682-26559-4011-3624.jpg',\n",
              " 'tissue-segment/2018_74969_1-1_2019-02-21 00_48_39-lv1-35186-14908-3285-3747_mask.jpg',\n",
              " 'tissue-segment/2019_02170_1-1_2019-02-20 19_32_09-lv1-23415-18659-7032-6341_mask.jpg',\n",
              " 'tissue-segment/2019_03721_1-1_2019-02-20 19_49_57-lv1-10166-8058-6824-7989.jpg',\n",
              " 'tissue-segment/2018_78758_1-1_2019-02-21 01_17_57-lv1-12181-25196-6860-3083_mask.jpg',\n",
              " 'tissue-segment/2018_83253_1-1_2019-02-20 18_38_45-lv1-5875-22018-4790-4840_mask.jpg',\n",
              " 'tissue-segment/2019_01120_1-1_2019-02-20 19_18_16-lv1-30711-14987-2799-3211.jpg',\n",
              " 'tissue-segment/2018_78758_1-1_2019-02-21 01_17_57-lv1-19474-24877-4448-4084.jpg',\n",
              " 'tissue-segment/2018_78758_1-1_2019-02-21 01_17_57-lv1-14935-29701-5017-4061_mask.jpg',\n",
              " 'tissue-segment/2019_01246_1-1_2019-02-20 19_23_52-lv1-43392-4103-4387-2023_mask.jpg',\n",
              " 'tissue-segment/2018_83220_1-1_2019-02-20 18_33_11-lv1-58151-37497-5712-3460.jpg',\n",
              " 'tissue-segment/2018_83253_1-1_2019-02-20 18_38_45-lv1-4605-26032-2864-4185.jpg',\n",
              " 'tissue-segment/2018_83220_1-1_2019-02-20 18_33_11-lv1-58151-37497-5712-3460_mask.jpg',\n",
              " 'tissue-segment/2019_01120_1-1_2019-02-20 19_18_16-lv1-27199-14351-3144-2966.jpg',\n",
              " 'tissue-segment/2018_78758_1-1_2019-02-21 01_17_57-lv1-14935-29701-5017-4061.jpg',\n",
              " 'tissue-segment/2019_02170_1-2_2019-02-20 19_37_17-lv1-18315-29727-7652-5581.jpg',\n",
              " 'tissue-segment/2019_01246_1-1_2019-02-20 19_23_52-lv1-41847-6127-5995-4660_mask.jpg',\n",
              " 'tissue-segment/2019_01120_1-1_2019-02-20 19_18_16-lv1-23931-17039-2932-2955.jpg',\n",
              " 'tissue-segment/2018_83220_1-1_2019-02-20 18_33_11-lv1-59641-33027-4844-3976_mask.jpg',\n",
              " 'tissue-segment/2018_83253_1-1_2019-02-20 18_38_45-lv1-883-22059-4376-3680.jpg',\n",
              " 'tissue-segment/2019_01120_1-1_2019-02-20 19_18_16-lv1-26931-18678-2999-4248.jpg',\n",
              " 'tissue-segment/2018_83253_1-1_2019-02-20 18_38_45-lv1-9768-30873-3832-3408_mask.jpg',\n",
              " 'tissue-segment/2019_01246_1-1_2019-02-20 19_23_52-lv1-41847-6127-5995-4660.jpg',\n",
              " 'tissue-segment/2018_78758_1-1_2019-02-21 01_17_57-lv1-19474-24877-4448-4084_mask.jpg',\n",
              " 'tissue-segment/2019_01246_1-1_2019-02-20 19_23_52-lv1-43392-4103-4387-2023.jpg',\n",
              " 'tissue-segment/2018_78758_1-1_2019-02-21 01_17_57-lv1-16323-27767-4403-2207_mask.jpg',\n",
              " 'tissue-segment/2018_83253_1-1_2019-02-20 18_38_45-lv1-9768-30873-3832-3408.jpg',\n",
              " 'tissue-segment/2018_83253_1-1_2019-02-20 18_38_45-lv1-5704-19306-2964-3529.jpg',\n",
              " 'tissue-segment/2019_01120_1-1_2019-02-20 19_18_16-lv1-26931-18678-2999-4248_mask.jpg',\n",
              " 'tissue-segment/2019_01120_1-1_2019-02-20 19_18_16-lv1-23931-17039-2932-2955_mask.jpg',\n",
              " 'tissue-segment/2019_02170_1-1_2019-02-20 19_32_09-lv1-23415-18659-7032-6341.jpg',\n",
              " 'tissue-segment/2018_83220_1-1_2019-02-20 18_33_11-lv1-59641-33027-4844-3976.jpg',\n",
              " 'tissue-segment/2018_83253_1-1_2019-02-20 18_38_45-lv1-2951-33576-3045-4336_mask.jpg',\n",
              " 'tissue-segment/2019_01120_1-1_2019-02-20 19_18_16-lv1-30711-14987-2799-3211_mask.jpg',\n",
              " 'tissue-segment/2018_83253_1-1_2019-02-20 18_38_45-lv1-5875-22018-4790-4840.jpg',\n",
              " 'tissue-segment/2018_78758_1-1_2019-02-21 01_17_57-lv1-16323-27767-4403-2207.jpg',\n",
              " 'tissue-segment/2018_83253_1-1_2019-02-20 18_38_45-lv1-4605-26032-2864-4185_mask.jpg',\n",
              " 'tissue-segment/2018_83253_1-1_2019-02-20 18_38_45-lv1-883-22059-4376-3680_mask.jpg',\n",
              " 'tissue-segment/2019_02170_1-2_2019-02-20 19_37_17-lv1-18315-29727-7652-5581_mask.jpg',\n",
              " 'tissue-segment/2018_83253_1-1_2019-02-20 18_38_45-lv1-5704-19306-2964-3529_mask.jpg',\n",
              " 'tissue-segment/2019_01120_1-1_2019-02-20 19_18_16-lv1-27199-14351-3144-2966_mask.jpg',\n",
              " 'tissue-segment/2018_83220_1-1_2019-02-20 18_33_11-lv1-62292-40863-3519-3237.jpg',\n",
              " 'tissue-segment/2018_83253_1-1_2019-02-20 18_38_45-lv1-2951-33576-3045-4336.jpg',\n",
              " 'tissue-segment/2018_83220_1-1_2019-02-20 18_33_11-lv1-62292-40863-3519-3237_mask.jpg',\n",
              " 'tissue-segment/2019_03867_1-1_2019-02-20 20_00_32-lv1-35269-34259-4448-4137_mask.jpg',\n",
              " 'tissue-segment/2019_03867_1-1_2019-02-20 20_00_32-lv1-31886-30525-3881-4663_mask.jpg',\n",
              " 'tissue-segment/2019_03867_1-1_2019-02-20 20_00_32-lv1-45818-32740-4663-5324_mask.jpg',\n",
              " 'tissue-segment/2019_07896_1-1_2019-02-20 21_18_02-lv1-8871-6172-4468-2821_mask.jpg',\n",
              " 'tissue-segment/2019_03867_1-1_2019-02-20 20_00_32-lv1-35269-34259-4448-4137.jpg',\n",
              " 'tissue-segment/2019_04115_1-1_2019-02-20 20_13_37-lv1-40690-7875-4758-4116_mask.jpg',\n",
              " 'tissue-segment/2019_03867_1-1_2019-02-20 20_00_32-lv1-36172-15430-6105-5822_mask.jpg',\n",
              " 'tissue-segment/2019_04115_1-1_2019-02-20 20_13_37-lv1-40690-7875-4758-4116.jpg',\n",
              " 'tissue-segment/2019_07303_1-1_2019-02-20 20_59_23-lv1-55167-19441-3666-5307_mask.jpg',\n",
              " 'tissue-segment/2019_03721_1-1_2019-02-20 19_49_57-lv1-15430-12816-2912-5396.jpg',\n",
              " 'tissue-segment/2019_05944_1-1_2019-02-20 20_42_06-lv1-32250-15753-7640-5376_mask.jpg',\n",
              " 'tissue-segment/2019_05944_1-1_2019-02-20 20_42_06-lv1-39021-20282-4099-4249.jpg',\n",
              " 'tissue-segment/2019_03721_1-1_2019-02-20 19_49_57-lv1-10166-8058-6824-7989_mask.jpg',\n",
              " 'tissue-segment/2019_03721_1-1_2019-02-20 19_49_57-lv1-15430-12816-2912-5396_mask.jpg',\n",
              " 'tissue-segment/2019_06193_1-1_2019-02-20 20_52_35-lv1-62184-33080-4772-3401_mask.jpg',\n",
              " 'tissue-segment/2019_04115_1-1_2019-02-20 20_13_37-lv1-40791-4298-4465-3509_mask.jpg',\n",
              " 'tissue-segment/2019_07303_1-1_2019-02-20 20_59_23-lv1-57476-14485-5363-6246.jpg',\n",
              " 'tissue-segment/2019_07896_1-1_2019-02-20 21_18_02-lv1-8384-9043-4423-2459_mask.jpg',\n",
              " 'tissue-segment/2019_03867_1-1_2019-02-20 20_00_32-lv1-42426-15525-4353-3558.jpg',\n",
              " 'tissue-segment/2019_04115_1-1_2019-02-20 20_13_37-lv1-40791-4298-4465-3509.jpg',\n",
              " 'tissue-segment/2019_03867_1-1_2019-02-20 20_00_32-lv1-36172-15430-6105-5822.jpg',\n",
              " 'tissue-segment/2019_05944_1-1_2019-02-20 20_42_06-lv1-31069-20357-7018-5934_mask.jpg',\n",
              " 'tissue-segment/2019_06193_1-1_2019-02-20 20_52_35-lv1-64392-30113-4360-3423.jpg',\n",
              " 'tissue-segment/2019_06193_1-1_2019-02-20 20_52_35-lv1-62184-33080-4772-3401.jpg',\n",
              " 'tissue-segment/2019_07896_1-1_2019-02-20 21_18_02-lv1-8871-6172-4468-2821.jpg',\n",
              " 'tissue-segment/2019_05944_1-1_2019-02-20 20_42_06-lv1-39021-20282-4099-4249_mask.jpg',\n",
              " 'tissue-segment/2019_05944_1-1_2019-02-20 20_42_06-lv1-31069-20357-7018-5934.jpg',\n",
              " 'tissue-segment/2019_07303_1-1_2019-02-20 20_59_23-lv1-55167-19441-3666-5307.jpg',\n",
              " 'tissue-segment/2019_07303_1-1_2019-02-20 20_59_23-lv1-57476-14485-5363-6246_mask.jpg',\n",
              " 'tissue-segment/2019_03721_1-1_2019-02-20 19_49_57-lv1-17045-9179-2571-3637.jpg',\n",
              " 'tissue-segment/2019_06193_1-1_2019-02-20 20_52_35-lv1-64392-30113-4360-3423_mask.jpg',\n",
              " 'tissue-segment/2019_03721_1-1_2019-02-20 19_49_57-lv1-17045-9179-2571-3637_mask.jpg',\n",
              " 'tissue-segment/2019_05944_1-1_2019-02-20 20_42_06-lv1-32250-15753-7640-5376.jpg',\n",
              " 'tissue-segment/2019_03867_1-1_2019-02-20 20_00_32-lv1-42426-15525-4353-3558_mask.jpg',\n",
              " 'tissue-segment/2019_03867_1-1_2019-02-20 20_00_32-lv1-45818-32740-4663-5324.jpg',\n",
              " 'tissue-segment/2019_07896_1-1_2019-02-20 21_18_02-lv1-8384-9043-4423-2459.jpg',\n",
              " 'tissue-segment/2019_03867_1-1_2019-02-20 20_00_32-lv1-31886-30525-3881-4663.jpg',\n",
              " 'tissue-segment/D20170502603_2019-05-14 11_39_00-lv1-19545-91-19192-28621.jpg',\n",
              " 'tissue-segment/D20170502603_2019-05-14 11_39_00-lv1-19545-91-19192-28621_mask.jpg',\n",
              " 'tissue-segment/D20170362101_2019-05-14 10_54_29-lv1-29935-31527-7716-4964_mask.jpg',\n",
              " 'tissue-segment/D20170362101_2019-05-14 10_54_29-lv1-36452-24059-2947-5151.jpg',\n",
              " 'tissue-segment/D20170362101_2019-05-14 10_54_29-lv1-36452-24059-2947-5151_mask.jpg',\n",
              " 'tissue-segment/D20170362101_2019-05-14 10_54_29-lv1-29935-31527-7716-4964.jpg',\n",
              " 'tissue-segment/D20170503802_2019-05-14 11_50_43-lv1-37058-32791-5533-2813.jpg',\n",
              " 'tissue-segment/D20170503802_2019-05-14 11_50_43-lv1-39235-25403-4168-5223_mask.jpg',\n",
              " 'tissue-segment/D20170546301_2019-05-14 12_21_38-lv1-27588-24020-5800-7897.jpg',\n",
              " 'tissue-segment/D20170503802_2019-05-14 11_50_43-lv1-39235-25403-4168-5223.jpg',\n",
              " 'tissue-segment/D20170518201_2019-05-14 12_05_30-lv1-39601-28026-5393-3901.jpg',\n",
              " 'tissue-segment/D20170502603_2019-05-14 11_39_00-lv1-322-6285-19314-22701.jpg',\n",
              " 'tissue-segment/D20170503802_2019-05-14 11_50_43-lv1-32642-35657-3496-3692.jpg',\n",
              " 'tissue-segment/D20170503802_2019-05-14 11_50_43-lv1-36345-35501-7085-3382.jpg',\n",
              " 'tissue-segment/D20170518201_2019-05-14 12_05_30-lv1-39601-28026-5393-3901_mask.jpg',\n",
              " 'tissue-segment/D20170503802_2019-05-14 11_50_43-lv1-37058-32791-5533-2813_mask.jpg',\n",
              " 'tissue-segment/D20170503802_2019-05-14 11_50_43-lv1-42069-29530-3775-4323_mask.jpg',\n",
              " 'tissue-segment/D20170503802_2019-05-14 11_50_43-lv1-32642-35657-3496-3692_mask.jpg',\n",
              " 'tissue-segment/D20170503802_2019-05-14 11_50_43-lv1-42069-29530-3775-4323.jpg',\n",
              " 'tissue-segment/D20170546301_2019-05-14 12_21_38-lv1-26517-31493-4149-3569_mask.jpg',\n",
              " 'tissue-segment/D20170518201_2019-05-14 12_05_30-lv1-39509-31959-5934-5127.jpg',\n",
              " 'tissue-segment/D20170518201_2019-05-14 12_05_30-lv1-33535-33090-5096-5832_mask.jpg',\n",
              " 'tissue-segment/D20170503802_2019-05-14 11_50_43-lv1-36345-35501-7085-3382_mask.jpg',\n",
              " 'tissue-segment/D20170518201_2019-05-14 12_05_30-lv1-39509-31959-5934-5127_mask.jpg',\n",
              " 'tissue-segment/D20170518201_2019-05-14 12_05_30-lv1-30277-26951-8886-7721_mask.jpg',\n",
              " 'tissue-segment/D20170502603_2019-05-14 11_39_00-lv1-322-6285-19314-22701_mask.jpg',\n",
              " 'tissue-segment/D20170546301_2019-05-14 12_21_38-lv1-26517-31493-4149-3569.jpg',\n",
              " 'tissue-segment/D20170518201_2019-05-14 12_05_30-lv1-33535-33090-5096-5832.jpg',\n",
              " 'tissue-segment/D20170546301_2019-05-14 12_21_38-lv1-27588-24020-5800-7897_mask.jpg',\n",
              " 'tissue-segment/D20170518201_2019-05-14 12_05_30-lv1-30277-26951-8886-7721.jpg',\n",
              " 'tissue-segment/D20170568101_2019-05-14 12_34_44-lv1-35797-21670-3404-1975.jpg',\n",
              " 'tissue-segment/D20170584502_2019-05-14 12_43_57-lv1-2062-19196-6656-6404.jpg',\n",
              " 'tissue-segment/D20170584502_2019-05-14 12_43_57-lv1-14744-78-19212-20032_mask.jpg',\n",
              " 'tissue-segment/D20170568101_2019-05-14 12_34_44-lv1-35797-21670-3404-1975_mask.jpg',\n",
              " 'tissue-segment/D20170568101_2019-05-14 12_34_44-lv1-31812-26175-6401-3317.jpg',\n",
              " 'tissue-segment/D20170546301_2019-05-14 12_21_38-lv1-31202-32184-3747-3859_mask.jpg',\n",
              " 'tissue-segment/D20170568101_2019-05-14 12_34_44-lv1-32981-23308-6289-3057_mask.jpg',\n",
              " 'tissue-segment/D20170584502_2019-05-14 12_43_57-lv1-2062-19196-6656-6404_mask.jpg',\n",
              " 'tissue-segment/D20170584502_2019-05-14 12_43_57-lv1-14744-78-19212-20032.jpg',\n",
              " 'tissue-segment/D20170568101_2019-05-14 12_34_44-lv1-32981-23308-6289-3057.jpg',\n",
              " 'tissue-segment/D20170546301_2019-05-14 12_21_38-lv1-31202-32184-3747-3859.jpg',\n",
              " 'tissue-segment/D20170568101_2019-05-14 12_34_44-lv1-31812-26175-6401-3317_mask.jpg',\n",
              " 'tissue-segment/D20170584502_2019-05-14 12_43_57-lv1-863-489-13565-15647_mask.jpg',\n",
              " 'tissue-segment/D201707227_2019-05-14 13_49_08-lv1-535-16796-26010-19568.jpg',\n",
              " 'tissue-segment/D20170584502_2019-05-14 12_43_57-lv1-8718-14653-7634-8076_mask.jpg',\n",
              " 'tissue-segment/D201707227_2019-05-14 13_49_08-lv1-7570-2847-5797-5435.jpg',\n",
              " 'tissue-segment/D20170584502_2019-05-14 12_43_57-lv1-863-489-13565-15647.jpg',\n",
              " 'tissue-segment/D201707227_2019-05-14 13_49_08-lv1-7570-2847-5797-5435_mask.jpg',\n",
              " 'tissue-segment/D201707227_2019-05-14 13_49_08-lv1-535-16796-26010-19568_mask.jpg',\n",
              " 'tissue-segment/D20170584502_2019-05-14 12_43_57-lv1-8718-14653-7634-8076.jpg',\n",
              " 'tissue-segment/D20170758903_2019-05-14 13_53_08-lv1-416-0-20070-19374_mask.jpg',\n",
              " 'tissue-segment/D20170758903_2019-05-14 13_53_08-lv1-21036-0-13452-15494_mask.jpg',\n",
              " 'tissue-segment/D201707788_2019-05-14 14_05_34-lv1-14456-57-11246-23473_mask.jpg',\n",
              " 'tissue-segment/D20170758903_2019-05-14 13_53_08-lv1-21036-0-13452-15494.jpg',\n",
              " 'tissue-segment/D20170758903_2019-05-14 13_53_08-lv1-416-0-20070-19374.jpg',\n",
              " 'tissue-segment/D201707788_2019-05-14 14_05_34-lv1-14456-57-11246-23473.jpg',\n",
              " 'tissue-segment/D20170857801_2019-05-14 14_17_15-lv1-34900-22796-4354-7054_mask.jpg',\n",
              " 'tissue-segment/D201709874_2019-05-21 12_42_42-lv1-27679-18718-4109-3578.jpg',\n",
              " 'tissue-segment/D201707788_2019-05-14 14_05_34-lv1-989-2393-13582-13495.jpg',\n",
              " 'tissue-segment/D20170857801_2019-05-14 14_17_15-lv1-30317-22362-4468-4561_mask.jpg',\n",
              " 'tissue-segment/D20170951201_2019-05-14 14_41_50-lv1-36112-30930-4033-4568_mask.jpg',\n",
              " 'tissue-segment/D20170857801_2019-05-14 14_17_15-lv1-30317-22362-4468-4561.jpg',\n",
              " 'tissue-segment/D201710920_2019-05-21 11_52_57-lv1-27184-25058-6217-9485_mask.jpg',\n",
              " 'tissue-segment/D201707788_2019-05-14 14_05_34-lv1-2777-15975-12688-9314.jpg',\n",
              " 'tissue-segment/D20170951201_2019-05-14 14_41_50-lv1-36112-30930-4033-4568.jpg',\n",
              " 'tissue-segment/D20170951201_2019-05-14 14_41_50-lv1-28397-29427-7624-5334.jpg',\n",
              " 'tissue-segment/D201707788_2019-05-14 14_05_34-lv1-2777-15975-12688-9314_mask.jpg',\n",
              " 'tissue-segment/D201710920_2019-05-21 11_52_57-lv1-33534-26482-6376-4721_mask.jpg',\n",
              " 'tissue-segment/D201710920_2019-05-21 11_52_57-lv1-33661-31501-7087-7660.jpg',\n",
              " 'tissue-segment/D201709874_2019-05-21 12_42_42-lv1-31315-17194-2766-2641.jpg',\n",
              " 'tissue-segment/D201707788_2019-05-14 14_05_34-lv1-989-2393-13582-13495_mask.jpg',\n",
              " 'tissue-segment/D20170951201_2019-05-14 14_41_50-lv1-35668-24223-3196-4870_mask.jpg',\n",
              " 'tissue-segment/D201710920_2019-05-21 11_52_57-lv1-27184-25058-6217-9485.jpg',\n",
              " 'tissue-segment/D20170951201_2019-05-14 14_41_50-lv1-27257-23870-4628-6000.jpg',\n",
              " 'tissue-segment/D20170951201_2019-05-14 14_41_50-lv1-35668-24223-3196-4870.jpg',\n",
              " 'tissue-segment/D20170857801_2019-05-14 14_17_15-lv1-34900-22796-4354-7054.jpg',\n",
              " 'tissue-segment/D201709874_2019-05-21 12_42_42-lv1-31315-17194-2766-2641_mask.jpg',\n",
              " 'tissue-segment/D201709874_2019-05-21 12_42_42-lv1-26505-15151-4357-3590_mask.jpg',\n",
              " 'tissue-segment/D20170951201_2019-05-14 14_41_50-lv1-28397-29427-7624-5334_mask.jpg',\n",
              " 'tissue-segment/D201709874_2019-05-21 12_42_42-lv1-27679-18718-4109-3578_mask.jpg',\n",
              " 'tissue-segment/D201710920_2019-05-21 11_52_57-lv1-33534-26482-6376-4721.jpg',\n",
              " 'tissue-segment/D20170951201_2019-05-14 14_41_50-lv1-27257-23870-4628-6000_mask.jpg',\n",
              " 'tissue-segment/D201709874_2019-05-21 12_42_42-lv1-26505-15151-4357-3590.jpg',\n",
              " 'tissue-segment/D201711541_2019-05-21 11_28_51-lv1-35648-23452-2298-3457.jpg',\n",
              " 'tissue-segment/D20180102901_2019-05-21 09_38_51-lv1-36547-27341-10626-9816.jpg',\n",
              " 'tissue-segment/D201710920_2019-05-21 11_52_57-lv1-33661-31501-7087-7660_mask.jpg',\n",
              " 'tissue-segment/D20180177401_2019-05-14 16_20_21-lv1-32896-24870-5099-5407.jpg',\n",
              " 'tissue-segment/D201711541_2019-05-21 11_28_51-lv1-39189-27851-3979-5553.jpg',\n",
              " 'tissue-segment/D201711541_2019-05-21 11_28_51-lv1-32674-26736-3766-4770_mask.jpg',\n",
              " 'tissue-segment/D20180056701_2019-05-21 09_50_58-lv1-23029-29289-3105-7538_mask.jpg',\n",
              " 'tissue-segment/D20180056701_2019-05-21 09_50_58-lv1-27543-34059-6966-5648_mask.jpg',\n",
              " 'tissue-segment/D201801775B_2019-05-14 16_11_32-lv1-26744-26137-5178-7271_mask.jpg',\n",
              " 'tissue-segment/D20171243404_2019-05-21 11_08_16-lv1-28314-26023-5734-5120_mask.jpg',\n",
              " 'tissue-segment/D201801775B_2019-05-14 16_11_32-lv1-26580-33647-6698-6192_mask.jpg',\n",
              " 'tissue-segment/D201711541_2019-05-21 11_28_51-lv1-38990-23529-2201-2163_mask.jpg',\n",
              " 'tissue-segment/D20171243404_2019-05-21 11_08_16-lv1-39057-28108-2988-2560.jpg',\n",
              " 'tissue-segment/D201711541_2019-05-21 11_28_51-lv1-38990-23529-2201-2163.jpg',\n",
              " 'tissue-segment/D20180177401_2019-05-14 16_20_21-lv1-35775-30321-8440-9363.jpg',\n",
              " 'tissue-segment/D20180177401_2019-05-14 16_20_21-lv1-32193-32343-3516-6088_mask.jpg',\n",
              " 'tissue-segment/D20171243404_2019-05-21 11_08_16-lv1-39057-28108-2988-2560_mask.jpg',\n",
              " 'tissue-segment/D20180102901_2019-05-21 09_38_51-lv1-32064-28648-3839-5894.jpg',\n",
              " 'tissue-segment/D20180056701_2019-05-21 09_50_58-lv1-27237-28645-8099-3942.jpg',\n",
              " 'tissue-segment/D20180102901_2019-05-21 09_38_51-lv1-36547-27341-10626-9816_mask.jpg',\n",
              " 'tissue-segment/D201801775B_2019-05-14 16_11_32-lv1-26744-26137-5178-7271.jpg',\n",
              " 'tissue-segment/D20180177401_2019-05-14 16_20_21-lv1-32896-24870-5099-5407_mask.jpg',\n",
              " 'tissue-segment/D20180102901_2019-05-21 09_38_51-lv1-35281-21862-7783-5230_mask.jpg',\n",
              " 'tissue-segment/D201801775B_2019-05-14 16_11_32-lv1-26580-33647-6698-6192.jpg',\n",
              " 'tissue-segment/D201711541_2019-05-21 11_28_51-lv1-35648-23452-2298-3457_mask.jpg',\n",
              " 'tissue-segment/D20180102901_2019-05-21 09_38_51-lv1-32064-28648-3839-5894_mask.jpg',\n",
              " 'tissue-segment/D20180102901_2019-05-21 09_38_51-lv1-35281-21862-7783-5230.jpg',\n",
              " 'tissue-segment/D20171243404_2019-05-21 11_08_16-lv1-28314-26023-5734-5120.jpg',\n",
              " 'tissue-segment/D20180056701_2019-05-21 09_50_58-lv1-23029-29289-3105-7538.jpg',\n",
              " 'tissue-segment/D20180056701_2019-05-21 09_50_58-lv1-27543-34059-6966-5648.jpg',\n",
              " 'tissue-segment/D201711541_2019-05-21 11_28_51-lv1-32674-26736-3766-4770.jpg',\n",
              " 'tissue-segment/D20180056701_2019-05-21 09_50_58-lv1-27237-28645-8099-3942_mask.jpg',\n",
              " 'tissue-segment/D20171243404_2019-05-21 11_08_16-lv1-34700-28211-3630-4561_mask.jpg',\n",
              " 'tissue-segment/D20180177401_2019-05-14 16_20_21-lv1-35775-30321-8440-9363_mask.jpg',\n",
              " 'tissue-segment/D201711541_2019-05-21 11_28_51-lv1-39189-27851-3979-5553_mask.jpg',\n",
              " 'tissue-segment/D20180177401_2019-05-14 16_20_21-lv1-32193-32343-3516-6088.jpg',\n",
              " 'tissue-segment/D20171243404_2019-05-21 11_08_16-lv1-34700-28211-3630-4561.jpg',\n",
              " 'tissue-segment/D201801775B_2019-05-14 16_11_32-lv1-32232-31796-7646-5982_mask.jpg',\n",
              " 'tissue-segment/D201802734_2019-05-14 15_33_06-lv1-29696-27971-4043-6765_mask.jpg',\n",
              " 'tissue-segment/D201803519_2019-05-14 15_14_44-lv1-28486-26603-10590-9935.jpg',\n",
              " 'tissue-segment/D201803511_2019-05-14 15_24_16-lv1-33769-25231-3062-2933.jpg',\n",
              " 'tissue-segment/D20180187901_2019-05-14 15_56_55-lv1-34347-8198-3824-5879.jpg',\n",
              " 'tissue-segment/D20180187901_2019-05-14 15_56_55-lv1-36171-3307-4967-5736.jpg',\n",
              " 'tissue-segment/D20180187901_2019-05-14 15_56_55-lv1-36171-3307-4967-5736_mask.jpg',\n",
              " 'tissue-segment/D201802734_2019-05-14 15_33_06-lv1-27790-35298-7029-4792_mask.jpg',\n",
              " 'tissue-segment/D201803511_2019-05-14 15_24_16-lv1-37520-25059-5405-4857_mask.jpg',\n",
              " 'tissue-segment/D201803511_2019-05-14 15_24_16-lv1-33769-25231-3062-2933_mask.jpg',\n",
              " 'tissue-segment/D201803511_2019-05-14 15_24_16-lv1-29331-25897-3352-3718.jpg',\n",
              " 'tissue-segment/D201802733_2019-05-14 15_48_17-lv1-29888-27054-2996-4638_mask.jpg',\n",
              " 'tissue-segment/D201801775B_2019-05-14 16_11_32-lv1-32649-27988-6434-3613_mask.jpg',\n",
              " 'tissue-segment/D20180187901_2019-05-14 15_56_55-lv1-30094-3670-4857-4637_mask.jpg',\n",
              " 'tissue-segment/D201802733_2019-05-14 15_41_01-lv1-18828-14936-7756-5310_mask.jpg',\n",
              " 'tissue-segment/D201802734_2019-05-14 15_33_06-lv1-33260-31641-4914-4572.jpg',\n",
              " 'tissue-segment/D201803511_2019-05-14 15_24_16-lv1-35489-31012-3664-4696.jpg',\n",
              " 'tissue-segment/D201803511_2019-05-14 15_24_16-lv1-29331-25897-3352-3718_mask.jpg',\n",
              " 'tissue-segment/D201802733_2019-05-14 15_48_17-lv1-27927-31736-4219-5542_mask.jpg',\n",
              " 'tissue-segment/D201801775B_2019-05-14 16_11_32-lv1-32232-31796-7646-5982.jpg',\n",
              " 'tissue-segment/D201803511_2019-05-14 15_24_16-lv1-37520-25059-5405-4857.jpg',\n",
              " 'tissue-segment/D201803511_2019-05-14 15_24_16-lv1-39304-30239-4287-4448_mask.jpg',\n",
              " 'tissue-segment/D20180187901_2019-05-14 15_56_55-lv1-30094-3670-4857-4637.jpg',\n",
              " 'tissue-segment/D201802733_2019-05-14 15_48_17-lv1-36444-25037-3635-5520_mask.jpg',\n",
              " 'tissue-segment/D201802733_2019-05-14 15_48_17-lv1-27927-31736-4219-5542.jpg',\n",
              " 'tissue-segment/D201802733_2019-05-14 15_41_01-lv1-18828-14936-7756-5310.jpg',\n",
              " 'tissue-segment/D201802733_2019-05-14 15_48_17-lv1-29888-27054-2996-4638.jpg',\n",
              " 'tissue-segment/D201803511_2019-05-14 15_24_16-lv1-39304-30239-4287-4448.jpg',\n",
              " 'tissue-segment/D201802734_2019-05-14 15_33_06-lv1-27790-35298-7029-4792.jpg',\n",
              " 'tissue-segment/D201802734_2019-05-14 15_33_06-lv1-34389-27289-3641-4065.jpg',\n",
              " 'tissue-segment/D201803511_2019-05-14 15_24_16-lv1-35489-31012-3664-4696_mask.jpg',\n",
              " 'tissue-segment/D201802734_2019-05-14 15_33_06-lv1-33260-31641-4914-4572_mask.jpg',\n",
              " 'tissue-segment/D20180187901_2019-05-14 15_56_55-lv1-34347-8198-3824-5879_mask.jpg',\n",
              " 'tissue-segment/D201801775B_2019-05-14 16_11_32-lv1-32649-27988-6434-3613.jpg',\n",
              " 'tissue-segment/D201802733_2019-05-14 15_48_17-lv1-36444-25037-3635-5520.jpg',\n",
              " 'tissue-segment/D201802734_2019-05-14 15_33_06-lv1-34389-27289-3641-4065_mask.jpg',\n",
              " 'tissue-segment/D201802734_2019-05-14 15_33_06-lv1-29696-27971-4043-6765.jpg',\n",
              " 'tissue-segment/D20180792401_2019-05-21 13_38_34-lv1-29203-23944-15780-12986.jpg',\n",
              " 'tissue-segment/D20180715202_2019-05-21 13_14_56-lv1-26524-21829-4504-4625.jpg',\n",
              " 'tissue-segment/D20180498101_2019-05-14 14_58_30-lv1-31412-229-5257-6451.jpg',\n",
              " 'tissue-segment/D201803519_2019-05-14 15_14_44-lv1-37789-37126-5701-3477_mask.jpg',\n",
              " 'tissue-segment/D201803519_2019-05-14 15_14_44-lv1-38817-33027-4911-4640.jpg',\n",
              " 'tissue-segment/D20181010201_2019-05-21 14_08_09-lv1-57001-816-15224-14673.jpg',\n",
              " 'tissue-segment/D201803519_2019-05-14 15_14_44-lv1-38817-33027-4911-4640_mask.jpg',\n",
              " 'tissue-segment/D201803519_2019-05-14 15_14_44-lv1-38218-28839-3928-3522.jpg',\n",
              " 'tissue-segment/D201803519_2019-05-14 15_14_44-lv1-37789-37126-5701-3477.jpg',\n",
              " 'tissue-segment/D201803519_2019-05-14 15_14_44-lv1-33951-36629-2732-1964_mask.jpg',\n",
              " 'tissue-segment/D20180715202_2019-05-21 13_14_56-lv1-26524-21829-4504-4625_mask.jpg',\n",
              " 'tissue-segment/D201803519_2019-05-14 15_14_44-lv1-33951-36629-2732-1964.jpg',\n",
              " 'tissue-segment/D20181010201_2019-05-21 14_08_09-lv1-57001-816-15224-14673_mask.jpg',\n",
              " 'tissue-segment/D20180498101_2019-05-14 14_58_30-lv1-29229-6658-7712-6180.jpg',\n",
              " 'tissue-segment/D20180498101_2019-05-14 14_58_30-lv1-29229-6658-7712-6180_mask.jpg',\n",
              " 'tissue-segment/D201803519_2019-05-14 15_14_44-lv1-38218-28839-3928-3522_mask.jpg',\n",
              " 'tissue-segment/D20180498101_2019-05-14 14_58_30-lv1-31412-229-5257-6451_mask.jpg',\n",
              " 'tissue-segment/D201803519_2019-05-14 15_14_44-lv1-28486-26603-10590-9935_mask.jpg',\n",
              " 'tissue-segment/D20180792401_2019-05-21 13_38_34-lv1-29203-23944-15780-12986_mask.jpg',\n",
              " 'tissue-segment/F2018_13446_1-1_2019-02-20 21_33_15-lv1-13171-109-16054-13821.jpg',\n",
              " 'tissue-segment/F2018_13446_1-1_2019-02-20 21_33_15-lv1-13171-109-16054-13821_mask.jpg']"
            ]
          },
          "metadata": {},
          "execution_count": 52
        }
      ]
    },
    {
      "cell_type": "code",
      "execution_count": 65,
      "metadata": {
        "id": "5fvGm8iZ0dOw"
      },
      "outputs": [],
      "source": [
        "class Tissue_Dataset(Dataset):\n",
        "    def __init__(self, path, transform = None):\n",
        "        masks_name = glob.glob(path+'/*mask.jpg')\n",
        "        image_names = glob.glob(path+'/*[!mask].jpg')\n",
        "        \n",
        "        assert len(masks_name) == len(image_names), 'Different amount of images and masks'\n",
        "\n",
        "        masks_tmp, images_tmp = [], []\n",
        "        for mask in masks_name: masks_tmp.append(mask[:-9])     # discard _mask.jgp \n",
        "        for image in image_names: images_tmp.append(image[:-4]) # discard .jpg\n",
        "        \n",
        "        assert all(item in masks_tmp for item in images_tmp) , 'Different files' # check that subsest are the same\n",
        "        \n",
        "        self.files = images_tmp\n",
        "        self.transform = transform\n",
        "        \n",
        "        \n",
        "    def __len__(self):\n",
        "        return len(self.files)\n",
        "    \n",
        "    def __getitem__(self, idx):\n",
        "        image = cv2.imread(self.files[idx]+'.jpg', cv2.IMREAD_GRAYSCALE)  # load image in grayscale\n",
        "        mask = cv2.imread(self.files[idx]+'_mask.jpg', cv2.IMREAD_GRAYSCALE)   # load mask in grayscae\n",
        "        mask = cv2.threshold(mask,122,255,cv2.THRESH_BINARY)[1]     # binirize mask to [0;255] using threshold 122\n",
        "        \n",
        "        if self.transform is not None:\n",
        "            transformed = self.transform(image=image, mask = mask)  # do augmentation\n",
        "            image = transformed['image']    \n",
        "            mask = transformed['mask']\n",
        "        \n",
        "        image, mask = torch.tensor(image), torch.tensor(mask)       # tranform from np to torch        \n",
        "\n",
        "        return torch.unsqueeze(image, dim = 0), torch.unsqueeze(mask, dim =0) # output with shape of [N,C,W,H] \n",
        "\n",
        "\n",
        "def get_transforms(train_patch_size = 64, test_patch_size = 1500):\n",
        "    '''returns augmentations transforms for both datasets\n",
        "       Applies patch sampling to data.\n",
        "    '''\n",
        "\n",
        "    train_transform = A.Compose([\n",
        "        A.RandomCrop(height=train_patch_size, width=train_patch_size, always_apply = True),\n",
        "        A.HorizontalFlip(always_apply = False, p = 0.5),\n",
        "        A.VerticalFlip(always_apply = False, p = 0.5),\n",
        "        #TODO: add other transfroms\n",
        "    ])\n",
        "    \n",
        "    test_transform = A.Compose([\n",
        "        A.RandomCrop(height = test_patch_size, width = test_patch_size, always_apply = True)\n",
        "    ])\n",
        "\n",
        "    return train_transform, test_transform\n",
        "\n",
        "\n",
        "def prepare_DataLoaders(path, train_test_split = 0.9, batch_size = (10,1), transforms = (None, None)):\n",
        "    fullDataset = Tissue_Dataset(data_path, transforms[0])  # get full dataset and assign train augmentation \n",
        "    train_size = int(train_test_split * len(fullDataset))  \n",
        "    test_size = len(fullDataset) - train_size\n",
        "    \n",
        "    # split dataset to 2 subsets\n",
        "    trainDataset, testDataset = torch.utils.data.random_split(fullDataset, [train_size, test_size])\n",
        "    testDataset.dataset = copy(fullDataset)             # both subsets uses the same dataset object. Need a copy for using different transfroms\n",
        "    testDataset.dataset.transform = transforms[1]       # assign test transform \n",
        "    # construnct dataLoaders\n",
        "    trainLoader = DataLoader(trainDataset, batch_size = batch_size[0], shuffle = True)\n",
        "    testLoader = DataLoader(testDataset, batch_size = batch_size[1], shuffle = True)\n",
        "    return trainLoader, testLoader"
      ]
    },
    {
      "cell_type": "code",
      "execution_count": 66,
      "metadata": {
        "id": "fAHTOlQ9UMJC"
      },
      "outputs": [],
      "source": [
        "train_transform, test_transform = get_transforms(train_patch_size = 256,\n",
        "                                                test_patch_size = 1500)\n",
        "\n",
        "trainLoader, testLoader = prepare_DataLoaders(path = data_path,\n",
        "                                              train_test_split = 0.9,\n",
        "                                              batch_size = (10,1),\n",
        "                                              transforms = (train_transform, test_transform)\n",
        "                                              )"
      ]
    },
    {
      "cell_type": "code",
      "execution_count": 73,
      "metadata": {
        "colab": {
          "base_uri": "https://localhost:8080/",
          "height": 495
        },
        "id": "00812xWlNLs3",
        "outputId": "d86adbc7-1a5b-4297-ee41-fdacbce1bc2f"
      },
      "outputs": [
        {
          "output_type": "stream",
          "name": "stdout",
          "text": [
            "Train loader\n",
            "Shape of images is : torch.Size([10, 1, 256, 256])\n",
            "Shape of masks is : torch.Size([10, 1, 256, 256])\n",
            "Test loader\n",
            "Shape of images is : torch.Size([1, 1, 1500, 1500])\n",
            "Shape of masks is : torch.Size([1, 1, 1500, 1500])\n"
          ]
        },
        {
          "output_type": "display_data",
          "data": {
            "text/plain": [
              "<Figure size 432x288 with 2 Axes>"
            ],
            "image/png": "[encoded data removed]"
          },
          "metadata": {
            "needs_background": "light"
          }
        },
        {
          "output_type": "display_data",
          "data": {
            "text/plain": [
              "<Figure size 432x288 with 2 Axes>"
            ],
            "image/png": "[encoded data removed]"
          },
          "metadata": {
            "needs_background": "light"
          }
        }
      ],
      "source": [
        "#plt.figure(figsize=(20,20))\n",
        "for image,mask in trainLoader:\n",
        "    print('Train loader')\n",
        "    print('Shape of images is :', image.shape)\n",
        "    print('Shape of masks is :', mask.shape)\n",
        "    plt.subplot(1,2,1)\n",
        "    plt.imshow(image[0,0], cmap= 'Greys')\n",
        "    plt.subplot(1,2,2)\n",
        "    plt.imshow(mask[0,0], cmap= 'Greys')\n",
        "    break\n",
        "\n",
        "plt.figure()\n",
        "for image,mask in testLoader:\n",
        "    print('Test loader')\n",
        "    print('Shape of images is :', image.shape)\n",
        "    print('Shape of masks is :', mask.shape)\n",
        "    plt.subplot(1,2,1)\n",
        "    plt.imshow(image[0,0], cmap= 'Greys')\n",
        "    plt.subplot(1,2,2)\n",
        "    plt.imshow(mask[0,0], cmap= 'Greys')\n",
        "    break"
      ]
    },
    {
      "cell_type": "code",
      "execution_count": null,
      "metadata": {
        "id": "odOIskP1rB0u",
        "outputId": "3671f90b-028c-4039-fe53-0a6978e8e597"
      },
      "outputs": [
        {
          "name": "stdout",
          "output_type": "stream",
          "text": [
            "tensor([[  0, 255,   0],\n",
            "        [  0,   0,   0],\n",
            "        [  0, 255, 255]], dtype=torch.uint8)\n",
            "tensor([[  0,   0,   0],\n",
            "        [  0, 255,   0],\n",
            "        [255,   0,   0]], dtype=torch.uint8)\n"
          ]
        },
        {
          "name": "stderr",
          "output_type": "stream",
          "text": [
            "/home/stas/anaconda3/envs/test/lib/python3.10/site-packages/tqdm/auto.py:22: TqdmWarning: IProgress not found. Please update jupyter and ipywidgets. See https://ipywidgets.readthedocs.io/en/stable/user_install.html\n",
            "  from .autonotebook import tqdm as notebook_tqdm\n"
          ]
        },
        {
          "data": {
            "text/plain": [
              "(tensor([[False, False, False],\n",
              "         [False, False, False],\n",
              "         [False, False, False]]),\n",
              " tensor([[ True, False,  True],\n",
              "         [ True, False,  True],\n",
              "         [False, False, False]]),\n",
              " tensor([[False, False, False],\n",
              "         [False,  True, False],\n",
              "         [ True, False, False]]),\n",
              " tensor([[False,  True, False],\n",
              "         [False, False, False],\n",
              "         [False,  True,  True]]))"
            ]
          },
          "execution_count": 1,
          "metadata": {},
          "output_type": "execute_result"
        }
      ],
      "source": [
        "import torch\n",
        "from loss import *\n",
        "\n",
        "size = 3\n",
        "TR = torch.randint(0,2,[size,size],dtype=torch.uint8)*255\n",
        "PR = torch.randint(0,2,[size,size],dtype=torch.uint8)*255\n",
        "\n",
        "TP,TN,FP,FN = calc_val_data(TR, PR)\n",
        "dice_score = calc_val_loss(TP,TN,FP,FN,eps=1e-7)\n",
        "print(\"TP\",TR)\n",
        "print(\"PR\",PR)\n",
        "print(\"TP\",TP)\n",
        "print(\"TN\",TN)\n",
        "print(\"FP\",FP)\n",
        "print(\"FN\",FN)"
      ]
    },
    {
      "cell_type": "code",
      "execution_count": null,
      "metadata": {
        "id": "QYSlvmhYrB0w"
      },
      "outputs": [],
      "source": [
        ""
      ]
    }
  ],
  "metadata": {
    "colab": {
      "collapsed_sections": [],
      "name": "main.ipynb",
      "provenance": [],
      "include_colab_link": true
    },
    "kernelspec": {
      "display_name": "Python 3",
      "name": "python3"
    },
    "language_info": {
      "codemirror_mode": {
        "name": "ipython",
        "version": 3
      },
      "file_extension": ".py",
      "mimetype": "text/x-python",
      "name": "python",
      "nbconvert_exporter": "python",
      "pygments_lexer": "ipython3",
      "version": "3.10.0"
    }
  },
  "nbformat": 4,
  "nbformat_minor": 0
}